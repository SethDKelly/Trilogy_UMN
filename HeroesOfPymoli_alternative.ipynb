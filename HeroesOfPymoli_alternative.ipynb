{
 "cells": [
  {
   "cell_type": "markdown",
   "metadata": {},
   "source": [
    "### Heroes Of Pymoli Data Analysis\n",
    "* Of the 1163 active players, the vast majority are male (84%). There also exists, a smaller, but notable proportion of female players (14%).\n",
    "\n",
    "* Our peak age demographic falls between 20-24 (44.8%) with secondary groups falling between 15-19 (18.60%) and 25-29 (13.4%).  \n",
    "-----"
   ]
  },
  {
   "cell_type": "markdown",
   "metadata": {},
   "source": [
    "### Notes\n",
    "* This notebook will be used to show example code that is different from the Trilogy provided solutions. These solutions may or may not be an improvement upon their solutions and are meant to demonstrate different techniques that can be used.\n",
    "* I'll use DataFrame instead of data frame when speaking about DataFrames. I'm doing this because pandas keyword for data frames is DataFrame. See ?pd.DataFrame() for more information"
   ]
  },
  {
   "cell_type": "code",
   "execution_count": 1,
   "metadata": {},
   "outputs": [],
   "source": [
    "# Dependencies and Setup\n",
    "import pandas as pd\n",
    "import numpy as np\n",
    "\n",
    "# Import purchase data csv, pandas natively builds this as a DataFrame for us.\n",
    "purchase_data = pd.read_csv(\"purchase_data.csv\")"
   ]
  },
  {
   "cell_type": "code",
   "execution_count": 2,
   "metadata": {},
   "outputs": [
    {
     "data": {
      "text/plain": [
       "pandas.core.frame.DataFrame"
      ]
     },
     "execution_count": 2,
     "metadata": {},
     "output_type": "execute_result"
    }
   ],
   "source": [
    "type(purchase_data) # Notice how it's of type pandas DataFrame"
   ]
  },
  {
   "cell_type": "markdown",
   "metadata": {},
   "source": [
    "<div class=\"alert alert-success\">\n",
    "<h2><b>Part 1</b>: Player Count</h2>\n",
    "\n",
    "<ul>\n",
    "  <li>Display the total number of players</li>\n",
    "</ul>\n",
    "</div>"
   ]
  },
  {
   "cell_type": "markdown",
   "metadata": {},
   "source": [
    "This question doesn't ask me to do any formatting or to save the results.\n",
    "As such, I will only create an output.\n",
    "Placing this information into a DataFrame is also unecessary.\n",
    "This answer takes what is presented in the Trilogy solution notebook and 'simplifies' it.\n",
    "I do this by using the chaining method, which is a 'preferred' functionality in pandas"
   ]
  },
  {
   "cell_type": "code",
   "execution_count": 3,
   "metadata": {},
   "outputs": [
    {
     "data": {
      "text/html": [
       "<div>\n",
       "<style scoped>\n",
       "    .dataframe tbody tr th:only-of-type {\n",
       "        vertical-align: middle;\n",
       "    }\n",
       "\n",
       "    .dataframe tbody tr th {\n",
       "        vertical-align: top;\n",
       "    }\n",
       "\n",
       "    .dataframe thead th {\n",
       "        text-align: right;\n",
       "    }\n",
       "</style>\n",
       "<table border=\"1\" class=\"dataframe\">\n",
       "  <thead>\n",
       "    <tr style=\"text-align: right;\">\n",
       "      <th></th>\n",
       "      <th>Total Players</th>\n",
       "    </tr>\n",
       "  </thead>\n",
       "  <tbody>\n",
       "    <tr>\n",
       "      <th>0</th>\n",
       "      <td>576</td>\n",
       "    </tr>\n",
       "  </tbody>\n",
       "</table>\n",
       "</div>"
      ],
      "text/plain": [
       "   Total Players\n",
       "0            576"
      ]
     },
     "execution_count": 3,
     "metadata": {},
     "output_type": "execute_result"
    }
   ],
   "source": [
    "# Using chaining methodology:\n",
    "pd.DataFrame({\"Total Players\": \n",
    "              [purchase_data.loc[:, [\"Gender\", \"SN\", \"Age\"]]\n",
    "               .drop_duplicates()\n",
    "               .count()[0]]})"
   ]
  },
  {
   "cell_type": "markdown",
   "metadata": {},
   "source": [
    "This next cell is an alternative solution.\n",
    "I'll save this data because I'll use it again.\n",
    "This helps reduce code redundancy.\n",
    "\n",
    "For this reason I think this is the best solution."
   ]
  },
  {
   "cell_type": "code",
   "execution_count": 20,
   "metadata": {},
   "outputs": [
    {
     "data": {
      "text/plain": [
       "576"
      ]
     },
     "execution_count": 20,
     "metadata": {},
     "output_type": "execute_result"
    }
   ],
   "source": [
    "total_players = purchase_data.loc[:, \"SN\"].drop_duplicates().count()\n",
    "\n",
    "total_players"
   ]
  },
  {
   "cell_type": "markdown",
   "metadata": {},
   "source": [
    "<div class=\"alert alert-success\">\n",
    "<h2><b>Part 2</b>: Purchasing Analysis (Total)</h2>\n",
    "\n",
    "<ul>\n",
    "  <li>Run basic calculations to obtain number of unique items, average price, etc.</li>\n",
    "  <li>Create a summary data frame to hold the results</li>\n",
    "  <li>Optional: give the displayed data cleaner formatting</li>\n",
    "  <li>Display the summary data frame</li>\n",
    "</ul>\n",
    "</div>"
   ]
  },
  {
   "cell_type": "code",
   "execution_count": 5,
   "metadata": {
    "scrolled": true
   },
   "outputs": [
    {
     "data": {
      "text/html": [
       "<div>\n",
       "<style scoped>\n",
       "    .dataframe tbody tr th:only-of-type {\n",
       "        vertical-align: middle;\n",
       "    }\n",
       "\n",
       "    .dataframe tbody tr th {\n",
       "        vertical-align: top;\n",
       "    }\n",
       "\n",
       "    .dataframe thead th {\n",
       "        text-align: right;\n",
       "    }\n",
       "</style>\n",
       "<table border=\"1\" class=\"dataframe\">\n",
       "  <thead>\n",
       "    <tr style=\"text-align: right;\">\n",
       "      <th></th>\n",
       "      <th>Number of Unique Items</th>\n",
       "      <th>Total Revenue in USD</th>\n",
       "      <th>Number of Purchases</th>\n",
       "      <th>Average Price in USD</th>\n",
       "    </tr>\n",
       "  </thead>\n",
       "  <tbody>\n",
       "    <tr>\n",
       "      <th>0</th>\n",
       "      <td>183</td>\n",
       "      <td>2379.77</td>\n",
       "      <td>780</td>\n",
       "      <td>3.05</td>\n",
       "    </tr>\n",
       "  </tbody>\n",
       "</table>\n",
       "</div>"
      ],
      "text/plain": [
       "   Number of Unique Items  Total Revenue in USD  Number of Purchases  \\\n",
       "0                     183               2379.77                  780   \n",
       "\n",
       "   Average Price in USD  \n",
       "0                  3.05  "
      ]
     },
     "execution_count": 5,
     "metadata": {},
     "output_type": "execute_result"
    }
   ],
   "source": [
    "# create a summary DataFrame using: totals (unique items), purchase sum, counts, and mean\n",
    "summary = (pd.DataFrame({\"Number of Unique Items\": len(purchase_data[\"Item ID\"].unique()),\n",
    "                        \"Total Revenue in USD\": [purchase_data[\"Price\"].sum()],\n",
    "                        \"Number of Purchases\": [purchase_data[\"Price\"].count()],\n",
    "                        \"Average Price in USD\": purchase_data[\"Price\"].mean()})\n",
    "           .round(2)\n",
    "          )\n",
    "\n",
    "summary"
   ]
  },
  {
   "cell_type": "markdown",
   "metadata": {},
   "source": [
    "I run the calculations from the original dataframe.\n",
    "Then build the columns from these calculations using a dictionary\n",
    "in the form of key : value (column : data).\n",
    "The question asks to create a DataFrame so I use pd.DataFrame\n",
    "\n",
    "For the formatting I round the numbers to 2 decimals.\n",
    "I don't include $ but instead name my columns descriptively.\n",
    "Since we're dealing with numbers I keep my numbers as data type int and/or float\n",
    "Using two decimals makes sense in dealing with money\n",
    "We also know the columns that deal with money and the kind of values\n",
    "If you ever took college science classes: LABEL YOUR UNITS!"
   ]
  },
  {
   "cell_type": "markdown",
   "metadata": {},
   "source": [
    "<div class=\"alert alert-success\">\n",
    "<h2><b>Part 3</b>: Gender Demographics</h2>\n",
    "\n",
    "<ul>\n",
    "  <li>Percentage and Count of Male Players</li>\n",
    "  <li>Percentage and Count of Female Players</li>\n",
    "  <li>Percentage and Count of Other / Non-Disclosed</li>\n",
    "  <li>Display the demographics</li>\n",
    "</ul>\n",
    "</div>"
   ]
  },
  {
   "cell_type": "markdown",
   "metadata": {},
   "source": [
    "_To assist in following along with this next code segment:_\n",
    "* I'm creating a DataFrame of the data to format it as a DataFrame\n",
    "* I'm building the DataFrame from using key:value format (dictionary)\n",
    "* The keys will be used as column names, the value(s) will be my data\n",
    "* I slice my original data on SN and Gender then drop any duplicates\n",
    " * This performs only on columns that have duplicate data in both columns (I believe)\n",
    "* I then slice further only on 'Gender' and take those value counts\n",
    "* In the second iteration I then divide by total players, multiply by 100 to get the percent\n",
    "* I save this DataFrame because I'll reuse it shortly after..."
   ]
  },
  {
   "cell_type": "code",
   "execution_count": 6,
   "metadata": {},
   "outputs": [
    {
     "data": {
      "text/html": [
       "<div>\n",
       "<style scoped>\n",
       "    .dataframe tbody tr th:only-of-type {\n",
       "        vertical-align: middle;\n",
       "    }\n",
       "\n",
       "    .dataframe tbody tr th {\n",
       "        vertical-align: top;\n",
       "    }\n",
       "\n",
       "    .dataframe thead th {\n",
       "        text-align: right;\n",
       "    }\n",
       "</style>\n",
       "<table border=\"1\" class=\"dataframe\">\n",
       "  <thead>\n",
       "    <tr style=\"text-align: right;\">\n",
       "      <th></th>\n",
       "      <th>Total Count</th>\n",
       "      <th>Percentage of Players</th>\n",
       "    </tr>\n",
       "  </thead>\n",
       "  <tbody>\n",
       "    <tr>\n",
       "      <th>Male</th>\n",
       "      <td>484</td>\n",
       "      <td>84.03</td>\n",
       "    </tr>\n",
       "    <tr>\n",
       "      <th>Female</th>\n",
       "      <td>81</td>\n",
       "      <td>14.06</td>\n",
       "    </tr>\n",
       "    <tr>\n",
       "      <th>Other / Non-Disclosed</th>\n",
       "      <td>11</td>\n",
       "      <td>1.91</td>\n",
       "    </tr>\n",
       "  </tbody>\n",
       "</table>\n",
       "</div>"
      ],
      "text/plain": [
       "                       Total Count  Percentage of Players\n",
       "Male                           484                  84.03\n",
       "Female                          81                  14.06\n",
       "Other / Non-Disclosed           11                   1.91"
      ]
     },
     "execution_count": 6,
     "metadata": {},
     "output_type": "execute_result"
    }
   ],
   "source": [
    "# Calculate the Number of players and their Percentage by Gender\n",
    "gender_demographics = (pd.DataFrame({\"Total Count\": \n",
    "                                    purchase_data.loc[:, ['SN', \"Gender\"]].drop_duplicates('SN')\n",
    "                                    ['Gender'].value_counts(),\n",
    "              \n",
    "                                    \"Percentage of Players\": \n",
    "                                    (purchase_data.loc[:, ['SN', \"Gender\"]].drop_duplicates('SN')\n",
    "                                     ['Gender'].value_counts()\n",
    "                                     / total_players * 100)})\n",
    "                       .round(2)\n",
    "                      )\n",
    "gender_demographics"
   ]
  },
  {
   "cell_type": "markdown",
   "metadata": {},
   "source": [
    "The above code cell is a single line format. Doing it this way can cause extraneous code useage.\n",
    "This can reduce legability and increase redundancy.\n",
    "\n",
    "We can see how I reused my first line of code: total_players. This is why we created a variable for it, to use it again.\n",
    "\n",
    "The output below will be same as above.\n",
    "This is an example of single line code versus multi line code.\n",
    "I think the cell below is more legible and reduces redundancy,\n",
    "__see what you think and let me know!__"
   ]
  },
  {
   "cell_type": "code",
   "execution_count": 7,
   "metadata": {},
   "outputs": [],
   "source": [
    "gender_counts = (purchase_data.loc[:, ['SN', \"Gender\"]]\n",
    "                 .drop_duplicates()['Gender']\n",
    "                 .value_counts()\n",
    "                )\n",
    "\n",
    "gender_demographics = (pd.DataFrame({\"Total Count\": gender_counts,\n",
    "                                    \"Percentage of Players\": gender_counts / total_players * 100})\n",
    "                       .round(2)\n",
    "                      )"
   ]
  },
  {
   "cell_type": "markdown",
   "metadata": {},
   "source": [
    "<div class=\"alert alert-success\">\n",
    "<h2><b>Part 4</b>: Purchasing Analysis (Gender)</h2>\n",
    "\n",
    "<ul>\n",
    "  <li>Run basic calculations to obtain purchase count, avg. purchase price, avg. purchase total per person etc. by gender</li>\n",
    "  <li>Create a summary data frame to hold the results</li>\n",
    "  <li>Optional: give the displayed data cleaner formatting</li>\n",
    "    <li>Display the summary data frame</li>\n",
    "</ul>\n",
    "</div>"
   ]
  },
  {
   "cell_type": "code",
   "execution_count": 8,
   "metadata": {},
   "outputs": [
    {
     "data": {
      "text/html": [
       "<div>\n",
       "<style scoped>\n",
       "    .dataframe tbody tr th:only-of-type {\n",
       "        vertical-align: middle;\n",
       "    }\n",
       "\n",
       "    .dataframe tbody tr th {\n",
       "        vertical-align: top;\n",
       "    }\n",
       "\n",
       "    .dataframe thead th {\n",
       "        text-align: right;\n",
       "    }\n",
       "</style>\n",
       "<table border=\"1\" class=\"dataframe\">\n",
       "  <thead>\n",
       "    <tr style=\"text-align: right;\">\n",
       "      <th></th>\n",
       "      <th>Purchase Count</th>\n",
       "      <th>Average Purchase Price (USD)</th>\n",
       "      <th>Total Purchase Value (USD)</th>\n",
       "      <th>Normalized Totals (USD)</th>\n",
       "    </tr>\n",
       "    <tr>\n",
       "      <th>Gender</th>\n",
       "      <th></th>\n",
       "      <th></th>\n",
       "      <th></th>\n",
       "      <th></th>\n",
       "    </tr>\n",
       "  </thead>\n",
       "  <tbody>\n",
       "    <tr>\n",
       "      <th>Female</th>\n",
       "      <td>113</td>\n",
       "      <td>3.20</td>\n",
       "      <td>361.94</td>\n",
       "      <td>4.47</td>\n",
       "    </tr>\n",
       "    <tr>\n",
       "      <th>Male</th>\n",
       "      <td>652</td>\n",
       "      <td>3.02</td>\n",
       "      <td>1967.64</td>\n",
       "      <td>4.07</td>\n",
       "    </tr>\n",
       "    <tr>\n",
       "      <th>Other / Non-Disclosed</th>\n",
       "      <td>15</td>\n",
       "      <td>3.35</td>\n",
       "      <td>50.19</td>\n",
       "      <td>4.56</td>\n",
       "    </tr>\n",
       "  </tbody>\n",
       "</table>\n",
       "</div>"
      ],
      "text/plain": [
       "                       Purchase Count  Average Purchase Price (USD)  \\\n",
       "Gender                                                                \n",
       "Female                            113                          3.20   \n",
       "Male                              652                          3.02   \n",
       "Other / Non-Disclosed              15                          3.35   \n",
       "\n",
       "                       Total Purchase Value (USD)  Normalized Totals (USD)  \n",
       "Gender                                                                      \n",
       "Female                                     361.94                     4.47  \n",
       "Male                                      1967.64                     4.07  \n",
       "Other / Non-Disclosed                       50.19                     4.56  "
      ]
     },
     "execution_count": 8,
     "metadata": {},
     "output_type": "execute_result"
    }
   ],
   "source": [
    "# Rinse and repeat from prior exercises\n",
    "gender_data = pd.DataFrame({\"Purchase Count\": purchase_data.groupby([\"Gender\"]).count()[\"Price\"], \n",
    "                            \"Average Purchase Price (USD)\": purchase_data.groupby([\"Gender\"]).mean()[\"Price\"], \n",
    "                            \"Total Purchase Value (USD)\": purchase_data.groupby([\"Gender\"]).sum()[\"Price\"], \n",
    "                            \"Normalized Totals (USD)\": \n",
    "                            purchase_data.groupby([\"Gender\"]).sum()[\"Price\"]\n",
    "                            / gender_demographics['Total Count']}).round(2)\n",
    "gender_data"
   ]
  },
  {
   "cell_type": "markdown",
   "metadata": {},
   "source": [
    "I won't go into what I'm doing with this code, it's a slightly more elaborate form of what I've already done.\n",
    "\n",
    "### _Stands on soap box:_\n",
    "\n",
    "I dislike changing format from an integer or float into a string or object. The data that I'm working with is numbers and I think at all times it should remain numbers. An exception to this is if we're simply outputting information visually. Then I think it's fine to change the type to display it well. Because I am creating this as a new DataFrame I WILL NOT change the data type so in any future use of this DataFrame I know what to expect from the values (numbers)."
   ]
  },
  {
   "cell_type": "markdown",
   "metadata": {},
   "source": [
    "## Now the fun begins... but first:\n",
    "__In this next section I use np.inf__:\n",
    "* __What is it__: it's 'infinity' thats built into numpy\n",
    "\n",
    "* __Why do I use it__: It's physically smaller on memory, albeit barely, than using an integer\n",
    "\n",
    " * __Also__, this way I catch ALL numbers above 40 (up to and including infinity).\n",
    " \n",
    "When dealing with age as we are with this question, this isn't really a problem. I am over engineering this solution by doing this."
   ]
  },
  {
   "cell_type": "code",
   "execution_count": 9,
   "metadata": {},
   "outputs": [
    {
     "name": "stdout",
     "output_type": "stream",
     "text": [
      "28\n",
      "24\n"
     ]
    }
   ],
   "source": [
    "#getsizeof will measure the physical memory size of the object in bytes\n",
    "from sys import getsizeof\n",
    "\n",
    "# Demo:\n",
    "print(getsizeof(999))\n",
    "print(getsizeof(np.inf))"
   ]
  },
  {
   "cell_type": "markdown",
   "metadata": {},
   "source": [
    "<div class=\"alert alert-success\">\n",
    "<h2><b>Part 5</b>: Age Demographics</h2>\n",
    "<ul>\n",
    "    <li>Establish bins for ages</li>\n",
    "    <li>Categorize the existing players using the age bins. Hint: use pd.cut()</li>\n",
    "    <li>Calculate the numbers and percentages by age group</li>\n",
    "    <li>Create a summary data frame to hold the results</li>\n",
    "    <li>Optional: round the percentage column to two decimal points</li>\n",
    "    <li>Display Age Demographics Table</li>\n",
    "</ul>\n",
    "</div>"
   ]
  },
  {
   "cell_type": "markdown",
   "metadata": {},
   "source": [
    "### Notes about using pd.cut(): \n",
    "\n",
    "\n",
    "There is a 'right' parameter that defines the functionality of the rightmost edge, whether it is included or not. The default setting for this parameter is True. What this means is that our bins look like:\n",
    "\n",
    "<p style=\"text-align: center;\"> `(0, 9], (9, 14],...(39, np.inf]`</p>\n",
    "\n",
    "* For the less familiar with interval notation in mathematics: The notation `[ a , c )` is used to indicate an interval from a to c that is inclusive of `a` but exclusive of `c`. That is, `[ 5 , 12 )` would be the set of all real numbers between 5 and 12, including 5 but not 12. The numbers may come as close as they like to 12, including 11.999 and so forth (with any finite number of 9s), but 12.0 is not included.\n",
    "\n",
    "The important thing to note with this interval style is that if we had created bins like: \n",
    "\n",
    "<p style=\"text-align: center;\"> `(0, 10], (10, 15], ..., (40, np.inf]` </p>\n",
    "\n",
    "Then we actually have a group that is all values including and below 10, all values greater than 40 but not including 40. By looking that the labels that we have we actually want all ages lower than 10 (not incuding 10), and all ages 40 or older. Some students changed the bins and this caused their answers to diverage from the solutions. This functionality of pd.cut is what caused that divergence. "
   ]
  },
  {
   "cell_type": "code",
   "execution_count": 10,
   "metadata": {},
   "outputs": [],
   "source": [
    "# Notice the bin intervals for pd.cut(right=True)\n",
    "age_bins = [0, 9, 14, 19, 24, 29, 34, 39, np.inf]\n",
    "group_names = [\"<10\", \"10-14\", \"15-19\", \"20-24\", \"25-29\", \"30-34\", \"35-39\", \"40+\"]\n",
    "\n",
    "cut_GroupBy = purchase_data.drop_duplicates('SN').groupby(pd.cut(purchase_data.drop_duplicates('SN').Age, \n",
    "                                                                 bins = age_bins, \n",
    "                                                                 labels = group_names))"
   ]
  },
  {
   "cell_type": "code",
   "execution_count": 11,
   "metadata": {},
   "outputs": [
    {
     "data": {
      "text/html": [
       "<div>\n",
       "<style scoped>\n",
       "    .dataframe tbody tr th:only-of-type {\n",
       "        vertical-align: middle;\n",
       "    }\n",
       "\n",
       "    .dataframe tbody tr th {\n",
       "        vertical-align: top;\n",
       "    }\n",
       "\n",
       "    .dataframe thead th {\n",
       "        text-align: right;\n",
       "    }\n",
       "</style>\n",
       "<table border=\"1\" class=\"dataframe\">\n",
       "  <thead>\n",
       "    <tr style=\"text-align: right;\">\n",
       "      <th></th>\n",
       "      <th>player_totals</th>\n",
       "      <th>percent_players</th>\n",
       "    </tr>\n",
       "    <tr>\n",
       "      <th>Age</th>\n",
       "      <th></th>\n",
       "      <th></th>\n",
       "    </tr>\n",
       "  </thead>\n",
       "  <tbody>\n",
       "    <tr>\n",
       "      <th>&lt;10</th>\n",
       "      <td>17</td>\n",
       "      <td>2.95</td>\n",
       "    </tr>\n",
       "    <tr>\n",
       "      <th>10-14</th>\n",
       "      <td>22</td>\n",
       "      <td>3.82</td>\n",
       "    </tr>\n",
       "    <tr>\n",
       "      <th>15-19</th>\n",
       "      <td>107</td>\n",
       "      <td>18.58</td>\n",
       "    </tr>\n",
       "    <tr>\n",
       "      <th>20-24</th>\n",
       "      <td>258</td>\n",
       "      <td>44.79</td>\n",
       "    </tr>\n",
       "    <tr>\n",
       "      <th>25-29</th>\n",
       "      <td>77</td>\n",
       "      <td>13.37</td>\n",
       "    </tr>\n",
       "    <tr>\n",
       "      <th>30-34</th>\n",
       "      <td>52</td>\n",
       "      <td>9.03</td>\n",
       "    </tr>\n",
       "    <tr>\n",
       "      <th>35-39</th>\n",
       "      <td>31</td>\n",
       "      <td>5.38</td>\n",
       "    </tr>\n",
       "    <tr>\n",
       "      <th>40+</th>\n",
       "      <td>12</td>\n",
       "      <td>2.08</td>\n",
       "    </tr>\n",
       "  </tbody>\n",
       "</table>\n",
       "</div>"
      ],
      "text/plain": [
       "       player_totals  percent_players\n",
       "Age                                  \n",
       "<10               17             2.95\n",
       "10-14             22             3.82\n",
       "15-19            107            18.58\n",
       "20-24            258            44.79\n",
       "25-29             77            13.37\n",
       "30-34             52             9.03\n",
       "35-39             31             5.38\n",
       "40+               12             2.08"
      ]
     },
     "execution_count": 11,
     "metadata": {},
     "output_type": "execute_result"
    }
   ],
   "source": [
    "age_demo = pd.DataFrame(data={'player_totals' : cut_GroupBy.SN.count(),\n",
    "                             'percent_players' : ((cut_GroupBy.SN.count() / total_players) * 100).round(2)})\n",
    "age_demo"
   ]
  },
  {
   "cell_type": "markdown",
   "metadata": {},
   "source": [
    "### An example of pd.cut(right=False)"
   ]
  },
  {
   "cell_type": "code",
   "execution_count": 12,
   "metadata": {},
   "outputs": [],
   "source": [
    "# Notice the bin intervals for pd.cut(right=False)\n",
    "age_bins = [0, 10, 15, 20, 25, 30, 35, 40, np.inf]\n",
    "\n",
    "cut_GroupBy = purchase_data.drop_duplicates('SN').groupby(pd.cut(purchase_data.drop_duplicates('SN').Age, \n",
    "                                                                 right=False,\n",
    "                                                                 bins = age_bins, \n",
    "                                                                 labels = group_names))"
   ]
  },
  {
   "cell_type": "code",
   "execution_count": 13,
   "metadata": {},
   "outputs": [
    {
     "data": {
      "text/html": [
       "<div>\n",
       "<style scoped>\n",
       "    .dataframe tbody tr th:only-of-type {\n",
       "        vertical-align: middle;\n",
       "    }\n",
       "\n",
       "    .dataframe tbody tr th {\n",
       "        vertical-align: top;\n",
       "    }\n",
       "\n",
       "    .dataframe thead th {\n",
       "        text-align: right;\n",
       "    }\n",
       "</style>\n",
       "<table border=\"1\" class=\"dataframe\">\n",
       "  <thead>\n",
       "    <tr style=\"text-align: right;\">\n",
       "      <th></th>\n",
       "      <th>player_totals</th>\n",
       "      <th>pecent_of_players</th>\n",
       "    </tr>\n",
       "    <tr>\n",
       "      <th>Age</th>\n",
       "      <th></th>\n",
       "      <th></th>\n",
       "    </tr>\n",
       "  </thead>\n",
       "  <tbody>\n",
       "    <tr>\n",
       "      <th>&lt;10</th>\n",
       "      <td>17</td>\n",
       "      <td>2.95</td>\n",
       "    </tr>\n",
       "    <tr>\n",
       "      <th>10-14</th>\n",
       "      <td>22</td>\n",
       "      <td>3.82</td>\n",
       "    </tr>\n",
       "    <tr>\n",
       "      <th>15-19</th>\n",
       "      <td>107</td>\n",
       "      <td>18.58</td>\n",
       "    </tr>\n",
       "    <tr>\n",
       "      <th>20-24</th>\n",
       "      <td>258</td>\n",
       "      <td>44.79</td>\n",
       "    </tr>\n",
       "    <tr>\n",
       "      <th>25-29</th>\n",
       "      <td>77</td>\n",
       "      <td>13.37</td>\n",
       "    </tr>\n",
       "    <tr>\n",
       "      <th>30-34</th>\n",
       "      <td>52</td>\n",
       "      <td>9.03</td>\n",
       "    </tr>\n",
       "    <tr>\n",
       "      <th>35-39</th>\n",
       "      <td>31</td>\n",
       "      <td>5.38</td>\n",
       "    </tr>\n",
       "    <tr>\n",
       "      <th>40+</th>\n",
       "      <td>12</td>\n",
       "      <td>2.08</td>\n",
       "    </tr>\n",
       "  </tbody>\n",
       "</table>\n",
       "</div>"
      ],
      "text/plain": [
       "       player_totals  pecent_of_players\n",
       "Age                                    \n",
       "<10               17               2.95\n",
       "10-14             22               3.82\n",
       "15-19            107              18.58\n",
       "20-24            258              44.79\n",
       "25-29             77              13.37\n",
       "30-34             52               9.03\n",
       "35-39             31               5.38\n",
       "40+               12               2.08"
      ]
     },
     "execution_count": 13,
     "metadata": {},
     "output_type": "execute_result"
    }
   ],
   "source": [
    "age_demo = pd.DataFrame(data={\n",
    "    'player_totals' : cut_GroupBy.SN.count(),\n",
    "    'pecent_of_players' : ((cut_GroupBy.SN.count() / total_players) * 100).round(2)\n",
    "})\n",
    "\n",
    "age_demo"
   ]
  },
  {
   "cell_type": "markdown",
   "metadata": {},
   "source": [
    "<div class=\"alert alert-success\">\n",
    "<h2><b>Part 6</b>: Purchasing Analysis (Age)</h2>\n",
    "<ul>\n",
    "    <li>Bin the purchase_data data frame by age</li>\n",
    "    <li>Run basic calculations to obtain:\n",
    "        purchase count, \n",
    "        avg. purchase price, \n",
    "        avg. purchase total per person etc. in the table below</li>\n",
    "    <li>Create a summary data frame to hold the results</li>\n",
    "    <li>Optional: give the displayed data cleaner formatting</li>\n",
    "    <li>Display the summary data frame</li>\n",
    "</ul>\n",
    "</div>"
   ]
  },
  {
   "cell_type": "code",
   "execution_count": 14,
   "metadata": {},
   "outputs": [],
   "source": [
    "age_GroupBy = (purchase_data\n",
    "               .assign(age_range = lambda df: pd.cut(df[\"Age\"], \n",
    "                                                       right = False,\n",
    "                                                       bins = age_bins, \n",
    "                                                       labels=group_names))\n",
    "               .groupby('age_range'))"
   ]
  },
  {
   "cell_type": "code",
   "execution_count": 15,
   "metadata": {},
   "outputs": [
    {
     "data": {
      "text/html": [
       "<div>\n",
       "<style scoped>\n",
       "    .dataframe tbody tr th:only-of-type {\n",
       "        vertical-align: middle;\n",
       "    }\n",
       "\n",
       "    .dataframe tbody tr th {\n",
       "        vertical-align: top;\n",
       "    }\n",
       "\n",
       "    .dataframe thead th {\n",
       "        text-align: right;\n",
       "    }\n",
       "</style>\n",
       "<table border=\"1\" class=\"dataframe\">\n",
       "  <thead>\n",
       "    <tr style=\"text-align: right;\">\n",
       "      <th></th>\n",
       "      <th>purchase_count</th>\n",
       "      <th>mean_purchase_USD</th>\n",
       "      <th>total_purchase_USD</th>\n",
       "      <th>mean_total_USD_person</th>\n",
       "    </tr>\n",
       "    <tr>\n",
       "      <th>age_range</th>\n",
       "      <th></th>\n",
       "      <th></th>\n",
       "      <th></th>\n",
       "      <th></th>\n",
       "    </tr>\n",
       "  </thead>\n",
       "  <tbody>\n",
       "    <tr>\n",
       "      <th>&lt;10</th>\n",
       "      <td>23</td>\n",
       "      <td>3.35</td>\n",
       "      <td>77.13</td>\n",
       "      <td>4.54</td>\n",
       "    </tr>\n",
       "    <tr>\n",
       "      <th>10-14</th>\n",
       "      <td>28</td>\n",
       "      <td>2.96</td>\n",
       "      <td>82.78</td>\n",
       "      <td>3.76</td>\n",
       "    </tr>\n",
       "    <tr>\n",
       "      <th>15-19</th>\n",
       "      <td>136</td>\n",
       "      <td>3.04</td>\n",
       "      <td>412.89</td>\n",
       "      <td>3.86</td>\n",
       "    </tr>\n",
       "    <tr>\n",
       "      <th>20-24</th>\n",
       "      <td>365</td>\n",
       "      <td>3.05</td>\n",
       "      <td>1114.06</td>\n",
       "      <td>4.32</td>\n",
       "    </tr>\n",
       "    <tr>\n",
       "      <th>25-29</th>\n",
       "      <td>101</td>\n",
       "      <td>2.90</td>\n",
       "      <td>293.00</td>\n",
       "      <td>3.81</td>\n",
       "    </tr>\n",
       "    <tr>\n",
       "      <th>30-34</th>\n",
       "      <td>73</td>\n",
       "      <td>2.93</td>\n",
       "      <td>214.00</td>\n",
       "      <td>4.12</td>\n",
       "    </tr>\n",
       "    <tr>\n",
       "      <th>35-39</th>\n",
       "      <td>41</td>\n",
       "      <td>3.60</td>\n",
       "      <td>147.67</td>\n",
       "      <td>4.76</td>\n",
       "    </tr>\n",
       "    <tr>\n",
       "      <th>40+</th>\n",
       "      <td>13</td>\n",
       "      <td>2.94</td>\n",
       "      <td>38.24</td>\n",
       "      <td>3.19</td>\n",
       "    </tr>\n",
       "  </tbody>\n",
       "</table>\n",
       "</div>"
      ],
      "text/plain": [
       "           purchase_count  mean_purchase_USD  total_purchase_USD  \\\n",
       "age_range                                                          \n",
       "<10                    23               3.35               77.13   \n",
       "10-14                  28               2.96               82.78   \n",
       "15-19                 136               3.04              412.89   \n",
       "20-24                 365               3.05             1114.06   \n",
       "25-29                 101               2.90              293.00   \n",
       "30-34                  73               2.93              214.00   \n",
       "35-39                  41               3.60              147.67   \n",
       "40+                    13               2.94               38.24   \n",
       "\n",
       "           mean_total_USD_person  \n",
       "age_range                         \n",
       "<10                         4.54  \n",
       "10-14                       3.76  \n",
       "15-19                       3.86  \n",
       "20-24                       4.32  \n",
       "25-29                       3.81  \n",
       "30-34                       4.12  \n",
       "35-39                       4.76  \n",
       "40+                         3.19  "
      ]
     },
     "execution_count": 15,
     "metadata": {},
     "output_type": "execute_result"
    }
   ],
   "source": [
    "price_age = pd.DataFrame(data={\n",
    "    'purchase_count' : age_GroupBy.count()['Price'],\n",
    "    'mean_purchase_USD' : age_GroupBy.mean()['Price'],\n",
    "    'total_purchase_USD' : age_GroupBy.sum()['Price'],\n",
    "    'mean_total_USD_person' : age_GroupBy.sum()['Price'] / age_demo['player_totals']\n",
    "}).round(2)\n",
    "\n",
    "price_age"
   ]
  },
  {
   "cell_type": "markdown",
   "metadata": {},
   "source": [
    "<div class=\"alert alert-success\">\n",
    "<h2><b>Part 7</b>: Top Spenders</h2>\n",
    "<ul>\n",
    "    <li>Run basic calculations to obtain the results in the table below</li>\n",
    "    <li>Create a summary data frame to hold the results</li>\n",
    "    <li>Sort the total purchase value column in descending order</li>\n",
    "    <li>Optional: give the displayed data cleaner formatting</li>\n",
    "    <li>Display a preview of the summary data frame</li>\n",
    "</ul>\n",
    "</div>"
   ]
  },
  {
   "cell_type": "markdown",
   "metadata": {},
   "source": [
    "## For this solution I'll walk through two ways\n",
    "* The first will create a new DataFrame of summary info using pd.DataFrame\n",
    "* The second will output a copy of our original DataFrame without storing it"
   ]
  },
  {
   "cell_type": "markdown",
   "metadata": {},
   "source": [
    "Walking through the first answer:\n",
    "* First I create a new DataFrame\n",
    "* I then create three columns\n",
    " * Built by using purchase_data\n",
    " * Grouped by screen name (SN)\n",
    " * Then aggregate Price by\n",
    "  * Sum\n",
    "  * Mean\n",
    "  * Count\n",
    "* I round the data to two places\n",
    "* Lastly, the data is sorted by purchase_count"
   ]
  },
  {
   "cell_type": "code",
   "execution_count": 16,
   "metadata": {},
   "outputs": [
    {
     "data": {
      "text/html": [
       "<div>\n",
       "<style scoped>\n",
       "    .dataframe tbody tr th:only-of-type {\n",
       "        vertical-align: middle;\n",
       "    }\n",
       "\n",
       "    .dataframe tbody tr th {\n",
       "        vertical-align: top;\n",
       "    }\n",
       "\n",
       "    .dataframe thead th {\n",
       "        text-align: right;\n",
       "    }\n",
       "</style>\n",
       "<table border=\"1\" class=\"dataframe\">\n",
       "  <thead>\n",
       "    <tr style=\"text-align: right;\">\n",
       "      <th></th>\n",
       "      <th>mean_purchase_USD</th>\n",
       "      <th>purchase_count</th>\n",
       "      <th>total_purchase_USD</th>\n",
       "    </tr>\n",
       "    <tr>\n",
       "      <th>SN</th>\n",
       "      <th></th>\n",
       "      <th></th>\n",
       "      <th></th>\n",
       "    </tr>\n",
       "  </thead>\n",
       "  <tbody>\n",
       "    <tr>\n",
       "      <th>Lisosia93</th>\n",
       "      <td>3.79</td>\n",
       "      <td>5</td>\n",
       "      <td>18.96</td>\n",
       "    </tr>\n",
       "    <tr>\n",
       "      <th>Iral74</th>\n",
       "      <td>3.40</td>\n",
       "      <td>4</td>\n",
       "      <td>13.62</td>\n",
       "    </tr>\n",
       "    <tr>\n",
       "      <th>Idastidru52</th>\n",
       "      <td>3.86</td>\n",
       "      <td>4</td>\n",
       "      <td>15.45</td>\n",
       "    </tr>\n",
       "    <tr>\n",
       "      <th>Asur53</th>\n",
       "      <td>2.48</td>\n",
       "      <td>3</td>\n",
       "      <td>7.44</td>\n",
       "    </tr>\n",
       "    <tr>\n",
       "      <th>Inguron55</th>\n",
       "      <td>3.70</td>\n",
       "      <td>3</td>\n",
       "      <td>11.11</td>\n",
       "    </tr>\n",
       "  </tbody>\n",
       "</table>\n",
       "</div>"
      ],
      "text/plain": [
       "             mean_purchase_USD  purchase_count  total_purchase_USD\n",
       "SN                                                                \n",
       "Lisosia93                 3.79               5               18.96\n",
       "Iral74                    3.40               4               13.62\n",
       "Idastidru52               3.86               4               15.45\n",
       "Asur53                    2.48               3                7.44\n",
       "Inguron55                 3.70               3               11.11"
      ]
     },
     "execution_count": 16,
     "metadata": {},
     "output_type": "execute_result"
    }
   ],
   "source": [
    "top_spenders = (pd.DataFrame(data={\n",
    "    'mean_purchase_USD' : purchase_data.groupby([\"SN\"]).mean()[\"Price\"],\n",
    "    'purchase_count' : purchase_data.groupby([\"SN\"]).count()[\"Price\"],\n",
    "    'total_purchase_USD' : purchase_data.groupby('SN').sum()['Price']\n",
    "})\n",
    "                .round(2)\n",
    "                .sort_values('purchase_count', ascending=False)\n",
    "               )\n",
    "\n",
    "top_spenders.head(5)"
   ]
  },
  {
   "cell_type": "markdown",
   "metadata": {},
   "source": [
    "Walking through this second answer:\n",
    "\n",
    "I take purchase_data:\n",
    "* groupby SN\n",
    "* Then aggregate Price by: mean, count, and sum\n",
    "* I rename the columns\n",
    "* Sort the values by purchase_count, descending\n",
    "* Round the values to two decimals\n",
    "* Take the top 5 answers, head(5)"
   ]
  },
  {
   "cell_type": "code",
   "execution_count": 17,
   "metadata": {},
   "outputs": [
    {
     "data": {
      "text/html": [
       "<div>\n",
       "<style scoped>\n",
       "    .dataframe tbody tr th:only-of-type {\n",
       "        vertical-align: middle;\n",
       "    }\n",
       "\n",
       "    .dataframe tbody tr th {\n",
       "        vertical-align: top;\n",
       "    }\n",
       "\n",
       "    .dataframe thead th {\n",
       "        text-align: right;\n",
       "    }\n",
       "</style>\n",
       "<table border=\"1\" class=\"dataframe\">\n",
       "  <thead>\n",
       "    <tr style=\"text-align: right;\">\n",
       "      <th></th>\n",
       "      <th>mean_purchase_USD</th>\n",
       "      <th>purchase_count</th>\n",
       "      <th>total_purchase_USD</th>\n",
       "    </tr>\n",
       "    <tr>\n",
       "      <th>SN</th>\n",
       "      <th></th>\n",
       "      <th></th>\n",
       "      <th></th>\n",
       "    </tr>\n",
       "  </thead>\n",
       "  <tbody>\n",
       "    <tr>\n",
       "      <th>Lisosia93</th>\n",
       "      <td>3.79</td>\n",
       "      <td>5</td>\n",
       "      <td>18.96</td>\n",
       "    </tr>\n",
       "    <tr>\n",
       "      <th>Iral74</th>\n",
       "      <td>3.40</td>\n",
       "      <td>4</td>\n",
       "      <td>13.62</td>\n",
       "    </tr>\n",
       "    <tr>\n",
       "      <th>Idastidru52</th>\n",
       "      <td>3.86</td>\n",
       "      <td>4</td>\n",
       "      <td>15.45</td>\n",
       "    </tr>\n",
       "    <tr>\n",
       "      <th>Asur53</th>\n",
       "      <td>2.48</td>\n",
       "      <td>3</td>\n",
       "      <td>7.44</td>\n",
       "    </tr>\n",
       "    <tr>\n",
       "      <th>Inguron55</th>\n",
       "      <td>3.70</td>\n",
       "      <td>3</td>\n",
       "      <td>11.11</td>\n",
       "    </tr>\n",
       "  </tbody>\n",
       "</table>\n",
       "</div>"
      ],
      "text/plain": [
       "             mean_purchase_USD  purchase_count  total_purchase_USD\n",
       "SN                                                                \n",
       "Lisosia93                 3.79               5               18.96\n",
       "Iral74                    3.40               4               13.62\n",
       "Idastidru52               3.86               4               15.45\n",
       "Asur53                    2.48               3                7.44\n",
       "Inguron55                 3.70               3               11.11"
      ]
     },
     "execution_count": 17,
     "metadata": {},
     "output_type": "execute_result"
    }
   ],
   "source": [
    "(purchase_data.groupby('SN')\n",
    "              ['Price'].agg(['mean', 'count', 'sum'])\n",
    "              .rename({'sum' : 'total_purchase_USD',\n",
    "                     'mean' : 'mean_purchase_USD',\n",
    "                     'count' : 'purchase_count'}, axis=1)\n",
    "              .sort_values('purchase_count', ascending=False)\n",
    "              .round(2)\n",
    "              .head(5)\n",
    ")"
   ]
  },
  {
   "cell_type": "markdown",
   "metadata": {},
   "source": [
    "<div class=\"alert alert-success\">\n",
    "<h2><b>Part 7</b>: Most Popular Items</h2>\n",
    "<ul>\n",
    "    <li>Retrieve the Item ID, Item Name, and Item Price columns</li>\n",
    "    <li>Group by Item ID and Item Name. Perform calculations to obtain purchase count, item price, and total purchase value</li>\n",
    "    <li>Create a summary data frame to hold the results</li>\n",
    "    <li>Sort the purchase count column in descending order</li>\n",
    "    <li>Optional: give the displayed data cleaner formatting</li>\n",
    "    <li>Display a preview of the summary data frame</li>\n",
    "</ul>\n",
    "</div>"
   ]
  },
  {
   "cell_type": "code",
   "execution_count": 18,
   "metadata": {},
   "outputs": [
    {
     "data": {
      "text/html": [
       "<div>\n",
       "<style scoped>\n",
       "    .dataframe tbody tr th:only-of-type {\n",
       "        vertical-align: middle;\n",
       "    }\n",
       "\n",
       "    .dataframe tbody tr th {\n",
       "        vertical-align: top;\n",
       "    }\n",
       "\n",
       "    .dataframe thead th {\n",
       "        text-align: right;\n",
       "    }\n",
       "</style>\n",
       "<table border=\"1\" class=\"dataframe\">\n",
       "  <thead>\n",
       "    <tr style=\"text-align: right;\">\n",
       "      <th></th>\n",
       "      <th></th>\n",
       "      <th>mean_purchase_USD</th>\n",
       "      <th>purchase_count</th>\n",
       "      <th>total_purchase_USD</th>\n",
       "    </tr>\n",
       "    <tr>\n",
       "      <th>Item ID</th>\n",
       "      <th>Item Name</th>\n",
       "      <th></th>\n",
       "      <th></th>\n",
       "      <th></th>\n",
       "    </tr>\n",
       "  </thead>\n",
       "  <tbody>\n",
       "    <tr>\n",
       "      <th>178</th>\n",
       "      <th>Oathbreaker, Last Hope of the Breaking Storm</th>\n",
       "      <td>4.23</td>\n",
       "      <td>12</td>\n",
       "      <td>50.76</td>\n",
       "    </tr>\n",
       "    <tr>\n",
       "      <th>145</th>\n",
       "      <th>Fiery Glass Crusader</th>\n",
       "      <td>4.58</td>\n",
       "      <td>9</td>\n",
       "      <td>41.22</td>\n",
       "    </tr>\n",
       "    <tr>\n",
       "      <th>108</th>\n",
       "      <th>Extraction, Quickblade Of Trembling Hands</th>\n",
       "      <td>3.53</td>\n",
       "      <td>9</td>\n",
       "      <td>31.77</td>\n",
       "    </tr>\n",
       "    <tr>\n",
       "      <th>82</th>\n",
       "      <th>Nirvana</th>\n",
       "      <td>4.90</td>\n",
       "      <td>9</td>\n",
       "      <td>44.10</td>\n",
       "    </tr>\n",
       "    <tr>\n",
       "      <th>19</th>\n",
       "      <th>Pursuit, Cudgel of Necromancy</th>\n",
       "      <td>1.02</td>\n",
       "      <td>8</td>\n",
       "      <td>8.16</td>\n",
       "    </tr>\n",
       "  </tbody>\n",
       "</table>\n",
       "</div>"
      ],
      "text/plain": [
       "                                                      mean_purchase_USD  \\\n",
       "Item ID Item Name                                                         \n",
       "178     Oathbreaker, Last Hope of the Breaking Storm               4.23   \n",
       "145     Fiery Glass Crusader                                       4.58   \n",
       "108     Extraction, Quickblade Of Trembling Hands                  3.53   \n",
       "82      Nirvana                                                    4.90   \n",
       "19      Pursuit, Cudgel of Necromancy                              1.02   \n",
       "\n",
       "                                                      purchase_count  \\\n",
       "Item ID Item Name                                                      \n",
       "178     Oathbreaker, Last Hope of the Breaking Storm              12   \n",
       "145     Fiery Glass Crusader                                       9   \n",
       "108     Extraction, Quickblade Of Trembling Hands                  9   \n",
       "82      Nirvana                                                    9   \n",
       "19      Pursuit, Cudgel of Necromancy                              8   \n",
       "\n",
       "                                                      total_purchase_USD  \n",
       "Item ID Item Name                                                         \n",
       "178     Oathbreaker, Last Hope of the Breaking Storm               50.76  \n",
       "145     Fiery Glass Crusader                                       41.22  \n",
       "108     Extraction, Quickblade Of Trembling Hands                  31.77  \n",
       "82      Nirvana                                                    44.10  \n",
       "19      Pursuit, Cudgel of Necromancy                               8.16  "
      ]
     },
     "execution_count": 18,
     "metadata": {},
     "output_type": "execute_result"
    }
   ],
   "source": [
    "top_items = (purchase_data.groupby([\"Item ID\", \"Item Name\"])\n",
    "              ['Price'].agg(['mean', 'count', 'sum'])\n",
    "              .rename({'sum' : 'total_purchase_USD',\n",
    "                     'mean' : 'mean_purchase_USD',\n",
    "                     'count' : 'purchase_count'}, axis=1)\n",
    "              .sort_values('purchase_count', ascending=False)\n",
    "              .round(2)\n",
    ")\n",
    "\n",
    "top_items.head(5)"
   ]
  },
  {
   "cell_type": "markdown",
   "metadata": {},
   "source": [
    "<div class=\"alert alert-success\">\n",
    "<h2><b>Part 8</b>: Most Profitable Items</h2>\n",
    "<ul>\n",
    "    <li>Sort the above table by total purchase value in descending order</li>\n",
    "    <li>Optional: give the displayed data cleaner formatting</li>\n",
    "    <li>Display a preview of the data frame</li>"
   ]
  },
  {
   "cell_type": "code",
   "execution_count": 19,
   "metadata": {
    "scrolled": true
   },
   "outputs": [
    {
     "data": {
      "text/html": [
       "<div>\n",
       "<style scoped>\n",
       "    .dataframe tbody tr th:only-of-type {\n",
       "        vertical-align: middle;\n",
       "    }\n",
       "\n",
       "    .dataframe tbody tr th {\n",
       "        vertical-align: top;\n",
       "    }\n",
       "\n",
       "    .dataframe thead th {\n",
       "        text-align: right;\n",
       "    }\n",
       "</style>\n",
       "<table border=\"1\" class=\"dataframe\">\n",
       "  <thead>\n",
       "    <tr style=\"text-align: right;\">\n",
       "      <th></th>\n",
       "      <th></th>\n",
       "      <th>mean_purchase_USD</th>\n",
       "      <th>purchase_count</th>\n",
       "      <th>total_purchase_USD</th>\n",
       "    </tr>\n",
       "    <tr>\n",
       "      <th>Item ID</th>\n",
       "      <th>Item Name</th>\n",
       "      <th></th>\n",
       "      <th></th>\n",
       "      <th></th>\n",
       "    </tr>\n",
       "  </thead>\n",
       "  <tbody>\n",
       "    <tr>\n",
       "      <th>178</th>\n",
       "      <th>Oathbreaker, Last Hope of the Breaking Storm</th>\n",
       "      <td>4.23</td>\n",
       "      <td>12</td>\n",
       "      <td>50.76</td>\n",
       "    </tr>\n",
       "    <tr>\n",
       "      <th>82</th>\n",
       "      <th>Nirvana</th>\n",
       "      <td>4.90</td>\n",
       "      <td>9</td>\n",
       "      <td>44.10</td>\n",
       "    </tr>\n",
       "    <tr>\n",
       "      <th>145</th>\n",
       "      <th>Fiery Glass Crusader</th>\n",
       "      <td>4.58</td>\n",
       "      <td>9</td>\n",
       "      <td>41.22</td>\n",
       "    </tr>\n",
       "    <tr>\n",
       "      <th>92</th>\n",
       "      <th>Final Critic</th>\n",
       "      <td>4.88</td>\n",
       "      <td>8</td>\n",
       "      <td>39.04</td>\n",
       "    </tr>\n",
       "    <tr>\n",
       "      <th>103</th>\n",
       "      <th>Singed Scalpel</th>\n",
       "      <td>4.35</td>\n",
       "      <td>8</td>\n",
       "      <td>34.80</td>\n",
       "    </tr>\n",
       "  </tbody>\n",
       "</table>\n",
       "</div>"
      ],
      "text/plain": [
       "                                                      mean_purchase_USD  \\\n",
       "Item ID Item Name                                                         \n",
       "178     Oathbreaker, Last Hope of the Breaking Storm               4.23   \n",
       "82      Nirvana                                                    4.90   \n",
       "145     Fiery Glass Crusader                                       4.58   \n",
       "92      Final Critic                                               4.88   \n",
       "103     Singed Scalpel                                             4.35   \n",
       "\n",
       "                                                      purchase_count  \\\n",
       "Item ID Item Name                                                      \n",
       "178     Oathbreaker, Last Hope of the Breaking Storm              12   \n",
       "82      Nirvana                                                    9   \n",
       "145     Fiery Glass Crusader                                       9   \n",
       "92      Final Critic                                               8   \n",
       "103     Singed Scalpel                                             8   \n",
       "\n",
       "                                                      total_purchase_USD  \n",
       "Item ID Item Name                                                         \n",
       "178     Oathbreaker, Last Hope of the Breaking Storm               50.76  \n",
       "82      Nirvana                                                    44.10  \n",
       "145     Fiery Glass Crusader                                       41.22  \n",
       "92      Final Critic                                               39.04  \n",
       "103     Singed Scalpel                                             34.80  "
      ]
     },
     "execution_count": 19,
     "metadata": {},
     "output_type": "execute_result"
    }
   ],
   "source": [
    "(top_items.sort_values('total_purchase_USD', \n",
    "                       ascending=False)\n",
    "          .head(5)\n",
    ")"
   ]
  },
  {
   "cell_type": "markdown",
   "metadata": {},
   "source": [
    "## This solution guide isn't meant to discourage any students based upon what they did/turned in. \n",
    "\n",
    "## It's meant to demonstrate the power of and what can be done in pandas, along with the variety of means to do it."
   ]
  }
 ],
 "metadata": {
  "anaconda-cloud": {},
  "kernel_info": {
   "name": "python3"
  },
  "kernelspec": {
   "display_name": "Python 3",
   "language": "python",
   "name": "python3"
  },
  "language_info": {
   "codemirror_mode": {
    "name": "ipython",
    "version": 3
   },
   "file_extension": ".py",
   "mimetype": "text/x-python",
   "name": "python",
   "nbconvert_exporter": "python",
   "pygments_lexer": "ipython3",
   "version": "3.6.5"
  },
  "nteract": {
   "version": "0.2.0"
  }
 },
 "nbformat": 4,
 "nbformat_minor": 2
}
